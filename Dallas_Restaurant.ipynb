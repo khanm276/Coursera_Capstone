{
 "cells": [
  {
   "cell_type": "markdown",
   "metadata": {},
   "source": [
    "# Capstone Project \n",
    "\n",
    "## Find the best place to open a new restaurant called \"KHANNECTION\"\n",
    "\n",
    "#### This is a feasibility project conducted to understand whether Dallas, Texas would be a good location to open up a new restaurant."
   ]
  },
  {
   "cell_type": "markdown",
   "metadata": {},
   "source": [
    "# 1. Introduction\n",
    "\n",
    "\n",
    "## A. Problem Statement\n",
    "\n",
    "The city chosen for this analysis is Dallas, TX. With an estimated 2019 population of 1,343,573, it is the ninth most-populous city in the U.S. and the third-largest in Texas. Over 41 colleges and universities are located within its metropolitan area, which is the most of any metropolitan area in Texas. The city has a population from a myriad of ethnic and religious backgrounds and one of the largest LGBT communities in the U.S.\n",
    "\n",
    "The city of Dallas is home to many areas, neighborhoods, and communities. Dallas can be divided into several geographical areas which include larger geographical sections of territory including many subdivisions or neighborhoods, forming macroneighborhoods namely;\n",
    "\n",
    "* Bishop Arts District\n",
    "* Casa Linda\n",
    "* Casa View\n",
    "* Cedars, The\n",
    "* Deep Ellum\n",
    "* Design District\n",
    "* Downtown\n",
    "*Exposition Park\n",
    "*Fair Park\n",
    "*Kessler Park\n",
    "*Knox-Henderson\n",
    "*Lakewood\n",
    "*Lake Highlands\n",
    "*Lower Greenville\n",
    "*\"M\" Streets\n",
    "*Oak Cliff\n",
    "*Oak Lawn\n",
    "*Park Cities\n",
    "*Pleasant Grove\n",
    "*Preston Hollow\n",
    "*Southwestern Medical District\n",
    "*Trinity Groves\n",
    "*Turtle Creek\n",
    "*Uptown\n",
    "*Victory Park\n",
    "*West End"
   ]
  },
  {
   "cell_type": "markdown",
   "metadata": {},
   "source": [
    "# 2. Data Collection\n",
    "\n",
    "##  A. Data Sources\n",
    "\n",
    "Demographic data can be obtained via \"https://neighborhoods.dmagazine.com/\" whereas location data (coordinates) can be obtained using https://www.latlong.net/ as this information is not readily available for Dallas region. \n",
    "\n",
    "\n",
    "\n",
    "## B. Data Usage\n",
    "\n",
    "Dataframes will be created using pandas library in python to merge the information found in the above to data sets. Folium library will be used to visualize these on a geographical map followed by K_means clustering to identify similarity of neighborhoods. FOURSQUARE API will be used to determine local venues based on the clusters. Once the data is available, this can allow us to visualize whether a certain type of food is over or undersaturated. Meaning, does a market exist for the type of food we would like to introuce in Dallas area. "
   ]
  }
 ],
 "metadata": {
  "kernelspec": {
   "display_name": "Python 3",
   "language": "python",
   "name": "python3"
  },
  "language_info": {
   "codemirror_mode": {
    "name": "ipython",
    "version": 3
   },
   "file_extension": ".py",
   "mimetype": "text/x-python",
   "name": "python",
   "nbconvert_exporter": "python",
   "pygments_lexer": "ipython3",
   "version": "3.8.2"
  }
 },
 "nbformat": 4,
 "nbformat_minor": 4
}
